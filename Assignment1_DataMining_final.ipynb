{
 "cells": [
  {
   "cell_type": "markdown",
   "metadata": {},
   "source": [
    "**Dataframe for Restaurant and their business_id**"
   ]
  },
  {
   "cell_type": "code",
   "execution_count": 275,
   "metadata": {},
   "outputs": [
    {
     "name": "stdout",
     "output_type": "stream",
     "text": [
      "\n",
      "\n",
      "               business_id                                         categories\n",
      "1   QXAEGFB4oINsVuTFxEYKFQ  Specialty Food, Restaurants, Dim Sum, Imported...\n",
      "2   gnKjwL_1w79qoiV3IC_xQQ                  Sushi Bars, Restaurants, Japanese\n",
      "11  1Dfx3zM-rW4n-31KeC8sJg  Restaurants, Breakfast & Brunch, Mexican, Taco...\n",
      "13  fweCYi8FmbJXHCqLnwuk8w         Italian, Restaurants, Pizza, Chicken Wings\n",
      "17  PZ-LZzSlhSe9utkQYU8pFg                               Restaurants, Italian\n",
      "\n",
      "\n",
      "Number of restaraunts= 59371\n"
     ]
    }
   ],
   "source": [
    "import json\n",
    "import string as str\n",
    "import pandas as pd\n",
    "import re\n",
    "from sklearn.feature_extraction.text import CountVectorizer, TfidfTransformer, TfidfVectorizer\n",
    "from pandas import DataFrame\n",
    "from sklearn.feature_extraction import stop_words\n",
    "from sklearn.model_selection import train_test_split\n",
    "from sklearn.naive_bayes import MultinomialNB\n",
    "from sklearn.metrics import confusion_matrix, classification_report,accuracy_score\n",
    "import scikitplot as skplt\n",
    "import matplotlib.pyplot as plt\n",
    "import string\n",
    "\n",
    "\n",
    "bus_id_rest=[]\n",
    "data_rest={}\n",
    "bus_id_rest=[]\n",
    "categories=[]\n",
    "\n",
    "counter=0\n",
    "def dataframe_business():\n",
    "    \n",
    "    with open('C:/Users/Gautam/Desktop/2nd semester/255/business.json', encoding = \"utf8\") as f:\n",
    "\n",
    "        for line in f:\n",
    "            \n",
    "            data_rest.update(json.loads(line))\n",
    "            bus_id_rest.append(data_rest['business_id'])\n",
    "            categories.append(data_rest['categories'])\n",
    "    \n",
    "    result = {'business_id':bus_id_rest,'categories':categories}\n",
    "    \n",
    "    return result\n",
    "\n",
    "result=dataframe_business() #dictinary of business_id and categories           \n",
    "df= pd.DataFrame.from_dict(result)#dataframe of the above\n",
    "business_dataframe=df[df['categories'].str.contains('Restaurants', na=False)]\n",
    "\n",
    "#print('Dataframe for Restaurant and their business_id')\n",
    "print('\\n')\n",
    "print(business_dataframe.head(5)) \n",
    "counter=business_dataframe['business_id'].count()\n",
    "business_set =set(business_dataframe['business_id'])\n",
    "print('\\n')\n",
    "\n",
    "print('Number of restaraunts=',business_dataframe['business_id'].count())\n",
    "\n"
   ]
  },
  {
   "cell_type": "markdown",
   "metadata": {},
   "source": [
    "**Loading reviews in a dataframe**"
   ]
  },
  {
   "cell_type": "code",
   "execution_count": 276,
   "metadata": {},
   "outputs": [
    {
     "data": {
      "text/html": [
       "<div>\n",
       "<style scoped>\n",
       "    .dataframe tbody tr th:only-of-type {\n",
       "        vertical-align: middle;\n",
       "    }\n",
       "\n",
       "    .dataframe tbody tr th {\n",
       "        vertical-align: top;\n",
       "    }\n",
       "\n",
       "    .dataframe thead th {\n",
       "        text-align: right;\n",
       "    }\n",
       "</style>\n",
       "<table border=\"1\" class=\"dataframe\">\n",
       "  <thead>\n",
       "    <tr style=\"text-align: right;\">\n",
       "      <th></th>\n",
       "      <th>business_id</th>\n",
       "      <th>text</th>\n",
       "      <th>stars</th>\n",
       "      <th>positive</th>\n",
       "      <th>negative</th>\n",
       "      <th>label</th>\n",
       "    </tr>\n",
       "  </thead>\n",
       "  <tbody>\n",
       "    <tr>\n",
       "      <th>0</th>\n",
       "      <td>ikCg8xy5JIg_NGPx-MSIDA</td>\n",
       "      <td>Went in for a lunch. Steak sandwich was delici...</td>\n",
       "      <td>5.0</td>\n",
       "      <td>0</td>\n",
       "      <td>0</td>\n",
       "      <td>0</td>\n",
       "    </tr>\n",
       "    <tr>\n",
       "      <th>1</th>\n",
       "      <td>eU_713ec6fTGNO4BegRaww</td>\n",
       "      <td>I'll be the first to admit that I was not exci...</td>\n",
       "      <td>4.0</td>\n",
       "      <td>0</td>\n",
       "      <td>0</td>\n",
       "      <td>0</td>\n",
       "    </tr>\n",
       "    <tr>\n",
       "      <th>2</th>\n",
       "      <td>3fw2X5bZYeW9xCz_zGhOHg</td>\n",
       "      <td>Tracy dessert had a big name in Hong Kong and ...</td>\n",
       "      <td>3.0</td>\n",
       "      <td>0</td>\n",
       "      <td>0</td>\n",
       "      <td>0</td>\n",
       "    </tr>\n",
       "    <tr>\n",
       "      <th>3</th>\n",
       "      <td>zvO-PJCpNk4fgAVUnExYAA</td>\n",
       "      <td>This place has gone down hill.  Clearly they h...</td>\n",
       "      <td>1.0</td>\n",
       "      <td>0</td>\n",
       "      <td>0</td>\n",
       "      <td>0</td>\n",
       "    </tr>\n",
       "    <tr>\n",
       "      <th>4</th>\n",
       "      <td>8mIrX_LrOnAqWsB5JrOojQ</td>\n",
       "      <td>Like walking back in time, every Saturday morn...</td>\n",
       "      <td>4.0</td>\n",
       "      <td>0</td>\n",
       "      <td>0</td>\n",
       "      <td>0</td>\n",
       "    </tr>\n",
       "  </tbody>\n",
       "</table>\n",
       "</div>"
      ],
      "text/plain": [
       "              business_id                                               text  \\\n",
       "0  ikCg8xy5JIg_NGPx-MSIDA  Went in for a lunch. Steak sandwich was delici...   \n",
       "1  eU_713ec6fTGNO4BegRaww  I'll be the first to admit that I was not exci...   \n",
       "2  3fw2X5bZYeW9xCz_zGhOHg  Tracy dessert had a big name in Hong Kong and ...   \n",
       "3  zvO-PJCpNk4fgAVUnExYAA  This place has gone down hill.  Clearly they h...   \n",
       "4  8mIrX_LrOnAqWsB5JrOojQ  Like walking back in time, every Saturday morn...   \n",
       "\n",
       "   stars  positive  negative  label  \n",
       "0    5.0         0         0      0  \n",
       "1    4.0         0         0      0  \n",
       "2    3.0         0         0      0  \n",
       "3    1.0         0         0      0  \n",
       "4    4.0         0         0      0  "
      ]
     },
     "execution_count": 276,
     "metadata": {},
     "output_type": "execute_result"
    }
   ],
   "source": [
    " \n",
    "\n",
    "data ={}\n",
    "result={}\n",
    "review=[]\n",
    "pos=[]\n",
    "\n",
    "def load_data():\n",
    "    \n",
    "    \n",
    "    bus_id=[]\n",
    "    stars=[]\n",
    "    \n",
    "    neg=[]\n",
    "    label=[]\n",
    "    counter1=0\n",
    "    bussiness_predicted_reviews = {}\n",
    "    with open('review.json', encoding = \"utf8\") as f:\n",
    "        for line in f:\n",
    "            counter1=counter1+1\n",
    "            if(counter1==50000):\n",
    "                break\n",
    "            data.update(json.loads(line))\n",
    "            if not set([data['business_id']]).isdisjoint(business_set):\n",
    "                review.append(data['text'])\n",
    "                bus_id.append(data['business_id'])\n",
    "                stars.append(data['stars'])\n",
    "                pos.append(0)\n",
    "                neg.append(0)\n",
    "                label.append(0)\n",
    "    result = {'business_id':bus_id,'text':review,'stars':stars,'positive':pos,'negative':neg,'label':label}\n",
    "    #print(review)\n",
    "    return result\n",
    "\n",
    "\n",
    "r=load_data()\n",
    "D = pd.DataFrame.from_dict(r)\n",
    "D.head()\n"
   ]
  },
  {
   "cell_type": "markdown",
   "metadata": {},
   "source": [
    "**Counting the number of positive and negative words in each review**\n"
   ]
  },
  {
   "cell_type": "code",
   "execution_count": 277,
   "metadata": {},
   "outputs": [
    {
     "data": {
      "text/html": [
       "<div>\n",
       "<style scoped>\n",
       "    .dataframe tbody tr th:only-of-type {\n",
       "        vertical-align: middle;\n",
       "    }\n",
       "\n",
       "    .dataframe tbody tr th {\n",
       "        vertical-align: top;\n",
       "    }\n",
       "\n",
       "    .dataframe thead th {\n",
       "        text-align: right;\n",
       "    }\n",
       "</style>\n",
       "<table border=\"1\" class=\"dataframe\">\n",
       "  <thead>\n",
       "    <tr style=\"text-align: right;\">\n",
       "      <th></th>\n",
       "      <th>business_id</th>\n",
       "      <th>text</th>\n",
       "      <th>stars</th>\n",
       "      <th>positive</th>\n",
       "      <th>negative</th>\n",
       "      <th>label</th>\n",
       "    </tr>\n",
       "  </thead>\n",
       "  <tbody>\n",
       "    <tr>\n",
       "      <th>0</th>\n",
       "      <td>ikCg8xy5JIg_NGPx-MSIDA</td>\n",
       "      <td>Went in for a lunch. Steak sandwich was delici...</td>\n",
       "      <td>5.0</td>\n",
       "      <td>12</td>\n",
       "      <td>0</td>\n",
       "      <td>1</td>\n",
       "    </tr>\n",
       "    <tr>\n",
       "      <th>1</th>\n",
       "      <td>eU_713ec6fTGNO4BegRaww</td>\n",
       "      <td>I'll be the first to admit that I was not exci...</td>\n",
       "      <td>4.0</td>\n",
       "      <td>23</td>\n",
       "      <td>6</td>\n",
       "      <td>1</td>\n",
       "    </tr>\n",
       "    <tr>\n",
       "      <th>2</th>\n",
       "      <td>3fw2X5bZYeW9xCz_zGhOHg</td>\n",
       "      <td>Tracy dessert had a big name in Hong Kong and ...</td>\n",
       "      <td>3.0</td>\n",
       "      <td>18</td>\n",
       "      <td>3</td>\n",
       "      <td>1</td>\n",
       "    </tr>\n",
       "    <tr>\n",
       "      <th>3</th>\n",
       "      <td>zvO-PJCpNk4fgAVUnExYAA</td>\n",
       "      <td>This place has gone down hill.  Clearly they h...</td>\n",
       "      <td>1.0</td>\n",
       "      <td>0</td>\n",
       "      <td>5</td>\n",
       "      <td>-1</td>\n",
       "    </tr>\n",
       "    <tr>\n",
       "      <th>4</th>\n",
       "      <td>8mIrX_LrOnAqWsB5JrOojQ</td>\n",
       "      <td>Like walking back in time, every Saturday morn...</td>\n",
       "      <td>4.0</td>\n",
       "      <td>6</td>\n",
       "      <td>1</td>\n",
       "      <td>1</td>\n",
       "    </tr>\n",
       "  </tbody>\n",
       "</table>\n",
       "</div>"
      ],
      "text/plain": [
       "              business_id                                               text  \\\n",
       "0  ikCg8xy5JIg_NGPx-MSIDA  Went in for a lunch. Steak sandwich was delici...   \n",
       "1  eU_713ec6fTGNO4BegRaww  I'll be the first to admit that I was not exci...   \n",
       "2  3fw2X5bZYeW9xCz_zGhOHg  Tracy dessert had a big name in Hong Kong and ...   \n",
       "3  zvO-PJCpNk4fgAVUnExYAA  This place has gone down hill.  Clearly they h...   \n",
       "4  8mIrX_LrOnAqWsB5JrOojQ  Like walking back in time, every Saturday morn...   \n",
       "\n",
       "   stars  positive  negative  label  \n",
       "0    5.0        12         0      1  \n",
       "1    4.0        23         6      1  \n",
       "2    3.0        18         3      1  \n",
       "3    1.0         0         5     -1  \n",
       "4    4.0         6         1      1  "
      ]
     },
     "execution_count": 277,
     "metadata": {},
     "output_type": "execute_result"
    }
   ],
   "source": [
    "def label_data():  \n",
    "    file1=open(\"negative_words.txt\", 'r') \n",
    "    words = re.findall(r\"([a-zA-Z\\-]+)\", file1.read())\n",
    "    words=set(words)\n",
    "    negative=0\n",
    "    neg=[]\n",
    "    \n",
    "    for sentence in review:\n",
    "        negative=0\n",
    "        for word_review in sentence.split():\n",
    "            for i in words:\n",
    "                if(i==word_review.lower()):        \n",
    "                    negative+=1  \n",
    "        neg.append(negative)        \n",
    "    D['negative']=neg\n",
    "    \n",
    "    \n",
    "    file2=open(\"positive_words.txt\", 'r') \n",
    "    words = re.findall(r\"([a-zA-Z\\-]+)\", file2.read())\n",
    "    words=set(words)\n",
    "    \n",
    "    positive=0\n",
    "    \n",
    "    pos=[]\n",
    "    for sentence in review:\n",
    "        positive=0\n",
    "        for word_review in sentence.split():\n",
    "            \n",
    "            \n",
    "            for i in words:\n",
    "                \n",
    "                if(i.lower()==word_review.lower()):\n",
    "                    \n",
    "                    \n",
    "                    positive+=1\n",
    "        pos.append(positive)\n",
    "    D['positive']=pos\n",
    "\n",
    "    \n",
    "    label=[]\n",
    "    \n",
    "    length=(len(pos))\n",
    "    for i in range(0,length):\n",
    "        if(pos[i]>neg[i]):\n",
    "            label.append(+1)\n",
    "            \n",
    "        elif(pos[i]<neg[i]):\n",
    "            label.append(-1)\n",
    "            \n",
    "        else:\n",
    "            label.append(0)\n",
    "            \n",
    "    D['label']=label\n",
    "    \n",
    "\n",
    "label_data()\n",
    "D.head()        \n",
    "       "
   ]
  },
  {
   "cell_type": "markdown",
   "metadata": {},
   "source": [
    "**Removing punctuation and stop words fro the reviews**"
   ]
  },
  {
   "cell_type": "code",
   "execution_count": 278,
   "metadata": {},
   "outputs": [],
   "source": [
    "\n",
    "def text_process(text):\n",
    "    nopunc = [char for char in text if char not in string.punctuation]\n",
    "    nopunc = ''.join(nopunc)\n",
    "    \n",
    "    return [word for word in nopunc.split() if word.lower() not in stop_words.ENGLISH_STOP_WORDS]"
   ]
  },
  {
   "cell_type": "code",
   "execution_count": 279,
   "metadata": {},
   "outputs": [],
   "source": [
    "X = D['text']\n",
    "y = D['label']"
   ]
  },
  {
   "cell_type": "code",
   "execution_count": 280,
   "metadata": {},
   "outputs": [],
   "source": [
    "from sklearn.feature_extraction.text import CountVectorizer, TfidfTransformer, TfidfVectorizer\n",
    "bow_transformer = CountVectorizer(analyzer=text_process).fit(X)\n",
    "\n",
    "X = bow_transformer.transform(X)"
   ]
  },
  {
   "cell_type": "markdown",
   "metadata": {},
   "source": [
    "**Using MultinomialNB to predict the reviews**"
   ]
  },
  {
   "cell_type": "code",
   "execution_count": 281,
   "metadata": {},
   "outputs": [],
   "source": [
    "X_train, X_test, y_train, y_test = train_test_split(X, y, test_size=0.3)\n",
    "nb = MultinomialNB()\n",
    "nb.fit(X_train, y_train)\n",
    "preds = nb.predict(X_test)"
   ]
  },
  {
   "cell_type": "markdown",
   "metadata": {},
   "source": [
    "confusion_matrix_nb=confusion_matrix(y_test, preds)\n",
    "print(confusion_matrix_nb)\n",
    "print(classification_report(y_test, preds))\n",
    "skplt.metrics.plot_confusion_matrix(y_test,preds,normalize=False)\n",
    "plt.show()"
   ]
  },
  {
   "cell_type": "code",
   "execution_count": 282,
   "metadata": {},
   "outputs": [
    {
     "name": "stdout",
     "output_type": "stream",
     "text": [
      "[[  21    2  535]\n",
      " [   8   25  562]\n",
      " [  20   42 8375]]\n",
      "             precision    recall  f1-score   support\n",
      "\n",
      "         -1       0.43      0.04      0.07       558\n",
      "          0       0.36      0.04      0.08       595\n",
      "          1       0.88      0.99      0.94      8437\n",
      "\n",
      "avg / total       0.83      0.88      0.83      9590\n",
      "\n"
     ]
    },
    {
     "data": {
      "image/png": "[encoded data removed]",
      "text/plain": [
       "<Figure size 432x288 with 2 Axes>"
      ]
     },
     "metadata": {},
     "output_type": "display_data"
    }
   ],
   "source": [
    "confusion_matrix_nb=confusion_matrix(y_test, preds)\n",
    "print(confusion_matrix_nb)\n",
    "print(classification_report(y_test, preds))\n",
    "skplt.metrics.plot_confusion_matrix(y_test,preds,normalize=False)\n",
    "plt.show()"
   ]
  },
  {
   "cell_type": "markdown",
   "metadata": {},
   "source": [
    "**Cross Validation using MultinomialNB**"
   ]
  },
  {
   "cell_type": "code",
   "execution_count": 283,
   "metadata": {},
   "outputs": [
    {
     "name": "stdout",
     "output_type": "stream",
     "text": [
      "Cross Validation scores after using MultinomialNB= [0.87600536 0.87756926 0.87798883 0.87751453 0.87907912]\n"
     ]
    }
   ],
   "source": [
    "from sklearn.model_selection import cross_val_score\n",
    "scores = cross_val_score(nb, X_train, y_train, cv=5)\n",
    "print('Cross Validation scores after using MultinomialNB=',scores)"
   ]
  },
  {
   "cell_type": "markdown",
   "metadata": {},
   "source": [
    "**Using SGDClassifier to predict reviews**"
   ]
  },
  {
   "cell_type": "code",
   "execution_count": 284,
   "metadata": {},
   "outputs": [
    {
     "name": "stdout",
     "output_type": "stream",
     "text": [
      "[[ 194   82  282]\n",
      " [  76   79  440]\n",
      " [ 176  193 8068]]\n",
      "             precision    recall  f1-score   support\n",
      "\n",
      "         -1       0.43      0.35      0.39       558\n",
      "          0       0.22      0.13      0.17       595\n",
      "          1       0.92      0.96      0.94      8437\n",
      "\n",
      "avg / total       0.85      0.87      0.86      9590\n",
      "\n"
     ]
    },
    {
     "data": {
      "image/png": "[encoded data removed]",
      "text/plain": [
       "<Figure size 432x288 with 2 Axes>"
      ]
     },
     "metadata": {},
     "output_type": "display_data"
    }
   ],
   "source": [
    "import numpy as np\n",
    "from sklearn import linear_model\n",
    "\n",
    "clf = linear_model.SGDClassifier(max_iter=1000, tol=1e-3)\n",
    "clf.fit(X_train, y_train)\n",
    "preds = clf.predict(X_test)\n",
    "confusion_matrix_clf=confusion_matrix(y_test, preds)\n",
    "print(confusion_matrix_clf)\n",
    "print(classification_report(y_test, preds))\n",
    "skplt.metrics.plot_confusion_matrix(y_test,preds,normalize=False)\n",
    "plt.show()\n"
   ]
  },
  {
   "cell_type": "markdown",
   "metadata": {},
   "source": [
    "**Cross Validation using SGDClassifier**"
   ]
  },
  {
   "cell_type": "code",
   "execution_count": 285,
   "metadata": {},
   "outputs": [
    {
     "name": "stdout",
     "output_type": "stream",
     "text": [
      "Cross Validation scores after using SGDClassifier= [0.87600536 0.87756926 0.87798883 0.87751453 0.87907912]\n"
     ]
    }
   ],
   "source": [
    "from sklearn.model_selection import cross_val_score\n",
    "scores = cross_val_score(nb, X_train, y_train, cv=5)\n",
    "print('Cross Validation scores after using SGDClassifier=',scores)"
   ]
  },
  {
   "cell_type": "code",
   "execution_count": 286,
   "metadata": {},
   "outputs": [],
   "source": [
    "yelp_data = D.groupby('business_id', as_index=False).agg({\"label\": \"mean\"})\n",
    "misclassified=0\n",
    "\n"
   ]
  },
  {
   "cell_type": "code",
   "execution_count": 287,
   "metadata": {},
   "outputs": [],
   "source": [
    "\n",
    "business={}\n",
    "final={}\n",
    "bus_id_final=[]\n",
    "stars_final=[]\n",
    "\n",
    "counter=0\n",
    "def dataframe_business():\n",
    "    with open('business.json', encoding = \"utf8\") as f:\n",
    "\n",
    "        for line in f:\n",
    "            counter=0\n",
    "            \n",
    "            business.update(json.loads(line))\n",
    "            bus_id_final.append(business['business_id'])\n",
    "            stars_final.append(business['stars'])\n",
    "            counter+=1\n",
    "        result = {'business_id':bus_id_final,'stars':stars_final}\n",
    "\n",
    "        dataframe=pd.DataFrame.from_dict(result)\n",
    "        return result\n",
    "        \n",
    "\n",
    "        "
   ]
  },
  {
   "cell_type": "code",
   "execution_count": 288,
   "metadata": {},
   "outputs": [],
   "source": [
    "res=dataframe_business()\n",
    "dataframe = pd.DataFrame.from_dict(res)\n"
   ]
  },
  {
   "cell_type": "code",
   "execution_count": 289,
   "metadata": {},
   "outputs": [
    {
     "name": "stdout",
     "output_type": "stream",
     "text": [
      "Out of 4104 examples 975 are misclassified\n"
     ]
    }
   ],
   "source": [
    "\n",
    "final=pd.merge(dataframe,yelp_data,on=['business_id'])#x=D y=yelp_data\n",
    "length=len(final)\n",
    "\n",
    "\n",
    "for i in range(0,length):\n",
    "    \n",
    "    if(final.iloc[i]['label']==1 and final.iloc[i]['stars']<=3):\n",
    "        misclassified=misclassified+1\n",
    "       \n",
    "        \n",
    "    elif(final.iloc[i]['label']==0 and final.iloc[i]['stars']!=3):\n",
    "         misclassified=misclassified+1\n",
    "         \n",
    "         \n",
    "    elif(final.iloc[i]['label']==-1 and final.iloc[i]['stars']>=3):\n",
    "         misclassified=misclassified+1\n",
    "         \n",
    "         \n",
    "print('Out of {} examples {} are misclassified'.format(length,misclassified))\n",
    "\n"
   ]
  },
  {
   "cell_type": "markdown",
   "metadata": {},
   "source": [
    "**Instances of Positive Reviews-Business_id,Given_stars,Predicted label**"
   ]
  },
  {
   "cell_type": "code",
   "execution_count": 290,
   "metadata": {},
   "outputs": [
    {
     "name": "stdout",
     "output_type": "stream",
     "text": [
      "gnKjwL_1w79qoiV3IC_xQQ 4.0 1.0\n",
      "fweCYi8FmbJXHCqLnwuk8w 4.0 1.0\n",
      "1RHY4K3BD22FK7Cfftn8Mg 4.0 1.0\n",
      "NDuUMJfrWk52RA-H-OtrpA 3.0 1.0\n",
      "BvYU3jvGd0TJ7IyZdfiN2Q 3.5 1.0\n",
      "_J_x_RaYTqAqAuCwgRhnRQ 3.0 1.0\n"
     ]
    }
   ],
   "source": [
    "pos_cnt=0\n",
    "\n",
    "for i in range(0,100):\n",
    "    if(final.iloc[i]['label']==1 and final.iloc[i]['stars']>=3):\n",
    "        print(final.iloc[i]['business_id'],final.iloc[i]['stars'],final.iloc[i]['label'])\n",
    "        if(pos_cnt==5):\n",
    "            break\n",
    "        pos_cnt+=1\n"
   ]
  },
  {
   "cell_type": "markdown",
   "metadata": {},
   "source": [
    "**Instances of Negative Reviews-Business_id,Given-stars,Predicted label**"
   ]
  },
  {
   "cell_type": "code",
   "execution_count": 292,
   "metadata": {},
   "outputs": [
    {
     "name": "stdout",
     "output_type": "stream",
     "text": [
      "emyCP3Ry2SbpNrwRAtm9PQ 2.5 -1.0\n",
      "5DLxa3EQQykWFdIJ-KU5jg 2.5 -1.0\n",
      "zLHOG9ty0OcXSQ6iy2BwwA 2.0 -1.0\n",
      "rDTCvOrVYN9USxyB-fNHyw 2.5 -1.0\n",
      "2uAicR2Gel9BMy7jyYUcjw 1.5 -1.0\n"
     ]
    }
   ],
   "source": [
    "\n",
    "neg_cnt=0\n",
    "for i in range(0,1000):\n",
    "    if(final.iloc[i]['label']==(-1) and final.iloc[i]['stars']<3):\n",
    "        print(final.iloc[i]['business_id'],final.iloc[i]['stars'],final.iloc[i]['label'])\n",
    "        if(neg_cnt==5):\n",
    "            break\n",
    "        neg_cnt+=1\n"
   ]
  },
  {
   "cell_type": "markdown",
   "metadata": {},
   "source": [
    "**Instances of Neutral Reviews-Business_id,Given-stars,Predicted label**"
   ]
  },
  {
   "cell_type": "code",
   "execution_count": 293,
   "metadata": {},
   "outputs": [
    {
     "name": "stdout",
     "output_type": "stream",
     "text": [
      "-jdNqqzF1Dbve04oEd4jww 3.0 0.0\n",
      "UmFty_GxdqVe35apYnmGbw 3.0 0.0\n",
      "Z3UBeP5EoKIXIDmEdA3JmQ 3.0 0.0\n",
      "CnWb3k8tUaxLZfDoYrpagA 3.0 0.0\n",
      "QJMRAjCIuqrHGmeAZeYzOQ 3.0 0.0\n",
      "VIsPmeZBMLkgbgw4UqCjUQ 3.0 0.0\n"
     ]
    }
   ],
   "source": [
    "neu_cnt=0\n",
    "for i in range(0,500):\n",
    "    if(final.iloc[i]['label']==0 and final.iloc[i]['stars']==3):\n",
    "        print(final.iloc[i]['business_id'],final.iloc[i]['stars'],final.iloc[i]['label'])\n",
    "        if(neu_cnt==5):\n",
    "            break\n",
    "        neu_cnt+=1\n"
   ]
  },
  {
   "cell_type": "markdown",
   "metadata": {},
   "source": [
    "**Instances of Misclassified Reviews-Business_id,Given-stars,Predicted label**"
   ]
  },
  {
   "cell_type": "code",
   "execution_count": 294,
   "metadata": {},
   "outputs": [
    {
     "name": "stdout",
     "output_type": "stream",
     "text": [
      "PZ-LZzSlhSe9utkQYU8pFg 4.0 0.0\n",
      "NDuUMJfrWk52RA-H-OtrpA 3.0 1.0\n",
      "_J_x_RaYTqAqAuCwgRhnRQ 3.0 1.0\n",
      "kANF0dbeoW34s2vwh6Umfw 2.0 1.0\n",
      "gyFYZV4b_9TxG1ulQNi0Ig 2.0 1.0\n"
     ]
    }
   ],
   "source": [
    "misclassified_cnt=0\n",
    "\n",
    "for i in range(0,100):\n",
    "    if(final.iloc[i]['label']==1 and final.iloc[i]['stars']<=3):\n",
    "        print(final.iloc[i]['business_id'],final.iloc[i]['stars'],final.iloc[i]['label'])\n",
    "        misclassified_cnt+=1\n",
    "        \n",
    "    elif(final.iloc[i]['label']==-1 and final.iloc[i]['stars']>=3):\n",
    "        print(final.iloc[i]['business_id'],final.iloc[i]['stars'],final.iloc[i]['label'])\n",
    "        misclassified_cnt+=1\n",
    "        \n",
    "    elif(final.iloc[i]['label']==0 and final.iloc[i]['stars']!=3):\n",
    "        print(final.iloc[i]['business_id'],final.iloc[i]['stars'],final.iloc[i]['label'])\n",
    "        misclassified_cnt+=1\n",
    "        \n",
    "    if(misclassified_cnt==5):\n",
    "        break\n",
    "    \n",
    "        "
   ]
  },
  {
   "cell_type": "markdown",
   "metadata": {},
   "source": [
    "**Example of correctly classified Review**"
   ]
  },
  {
   "cell_type": "code",
   "execution_count": 271,
   "metadata": {},
   "outputs": [
    {
     "name": "stdout",
     "output_type": "stream",
     "text": [
      "This place is quite possibly my favorite restaurant in Phoenix. \n",
      "\n",
      "My favorites are the Chicken Scarpariello, the pizza and the Sangria. My wife can't decide between four dishes. Our daughter loves the Penne ala Vodka, Lasagna, or Ravioli.\n",
      "\n",
      "Mario and his sons work hard to please and we've never had a bad meal here. I've seen them bend over backwards to try and take care of obvious jerks. \n",
      "\n",
      "Plus to top it off, when local school invited local pizza places to present to a class on making pizza and recycling issues, Mario came and talked to the kids as if they were adults. All the other places treated it as a marketing event and brought coupons. \n",
      "\n",
      "Get the idea? It's all good at this neighborhood gem!\n",
      "\n",
      "\n",
      "Prediction 1\n"
     ]
    }
   ],
   "source": [
    "#correctly classified\n",
    "positive_review = D['text'][60]\n",
    "print(positive_review)\n",
    "print('\\n')\n",
    "positive_review_transformed = bow_transformer.transform([positive_review])\n",
    "print('Prediction',nb.predict(positive_review_transformed)[0])"
   ]
  },
  {
   "cell_type": "markdown",
   "metadata": {},
   "source": [
    "**Example of a misclassified review**"
   ]
  },
  {
   "cell_type": "code",
   "execution_count": 272,
   "metadata": {},
   "outputs": [
    {
     "name": "stdout",
     "output_type": "stream",
     "text": [
      "I was told so many great things about this place but my entire experience was awful. The food wasn't very good, way too greasy. My fries were luke warm and my tray was literally covered in grease. I needed about 50 napkins and a shower after that. The service was pretty awful too. I can't believe I paid $14 for a small meal with no extra fixings. On national cheeseburger day of all days too. Such a disappointment and I've never gone back since. Best thing about it was the soda, but that's pretty difficult to mess up.\n",
      "\n",
      "\n",
      "1\n"
     ]
    }
   ],
   "source": [
    "#False\n",
    "negative_review = D['text'][59]\n",
    "print(negative_review)\n",
    "print('\\n')\n",
    "negative_review_transformed = bow_transformer.transform([negative_review])\n",
    "print(nb.predict(negative_review_transformed)[0])"
   ]
  },
  {
   "cell_type": "code",
   "execution_count": 104,
   "metadata": {},
   "outputs": [
    {
     "name": "stdout",
     "output_type": "stream",
     "text": [
      "Being a big Laguna Hills OHOP fan, I was disappointed when I visited the Scottsdale AZ location. It felt like a completely different restaurant.\n",
      "\n",
      "First off--cash only. Wasn't ready for that. Luckily, they have an ATM onsite.\n",
      "\n",
      "Secondly, they really nerfed the size of the Dutch Baby here. I worked up my friends at how awesome and overwhelmingly large the Dutch Baby is (and that you could share it with two people), but it was a disappointment. It was bit dry, almost burnt and stale tasting.\n",
      "\n",
      "Third, I felt very rushed. I know that there is a long line, but they were really pushy about cleaning up our plates immediately after we finished and it made for an uncomfortable eating experience.\n",
      "\n",
      "All in all, there is little to distinguish this place from an IHOP.\n",
      "1\n"
     ]
    }
   ],
   "source": [
    "#False\n",
    "negative_review = D['text'][500]\n",
    "print(negative_review)\n",
    "negative_review_transformed = bow_transformer.transform([negative_review])\n",
    "print(nb.predict(negative_review_transformed)[0])"
   ]
  }
 ],
 "metadata": {
  "kernelspec": {
   "display_name": "Python 3",
   "language": "python",
   "name": "python3"
  },
  "language_info": {
   "codemirror_mode": {
    "name": "ipython",
    "version": 3
   },
   "file_extension": ".py",
   "mimetype": "text/x-python",
   "name": "python",
   "nbconvert_exporter": "python",
   "pygments_lexer": "ipython3",
   "version": "3.6.5"
  }
 },
 "nbformat": 4,
 "nbformat_minor": 2
}
